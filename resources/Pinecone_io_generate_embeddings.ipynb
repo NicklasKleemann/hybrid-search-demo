{
 "cells": [
  {
   "cell_type": "markdown",
   "id": "d72a9674",
   "metadata": {
    "id": "Ug-NsCoZViN8"
   },
   "source": [
    "## Install Dependencies"
   ]
  },
  {
   "cell_type": "code",
   "execution_count": 20,
   "id": "8bb48158",
   "metadata": {},
   "outputs": [],
   "source": [
    "#!pip install torch datasets transformers sentence-transformers requests tqdm"
   ]
  },
  {
   "cell_type": "code",
   "execution_count": 21,
   "id": "3fd3adca",
   "metadata": {},
   "outputs": [],
   "source": [
    "import pandas as pd\n",
    "from sentence_transformers import SentenceTransformer\n",
    "import requests\n",
    "from collections import Counter\n",
    "from tqdm.auto import tqdm"
   ]
  },
  {
   "cell_type": "markdown",
   "id": "1c470c16",
   "metadata": {
    "id": "Q68EZtCmooq4"
   },
   "source": [
    "## Connect to Pinecone"
   ]
  },
  {
   "cell_type": "markdown",
   "id": "6c4d5bf0",
   "metadata": {
    "id": "Oweyy_KjV_Y3"
   },
   "source": [
    "The hybrid vector index is currently not available in Pinecone python client. So, we will use the Pinecone REST API to communicate with the new index. The ```HybridPinecone``` class below gives you a similar interface to the python-client to communicate with the new index."
   ]
  },
  {
   "cell_type": "code",
   "execution_count": 22,
   "id": "de8dbdca",
   "metadata": {},
   "outputs": [],
   "source": [
    "class HybridPinecone:\n",
    "    # initializes the HybridPinecone object\n",
    "    def __init__(self, api_key, environment):\n",
    "        # make environment, headers and project_id available across all the function within the class\n",
    "        self.environment = environment\n",
    "        self.headers = {'Api-Key': api_key}\n",
    "        # get project_id\n",
    "        res = requests.get(\n",
    "            f\"https://controller.{self.environment}.pinecone.io/actions/whoami\",\n",
    "            headers=self.headers\n",
    "        )\n",
    "        self.project_id = res.json()['project_name']\n",
    "        self.host = None\n",
    "\n",
    "    # creates an index in pinecone vector database\n",
    "    def create_index(self, index_name, dimension, metric, pod_type):\n",
    "        # index specification\n",
    "        params = {\n",
    "            'name': index_name,\n",
    "            'dimension': dimension,\n",
    "            'metric': metric,\n",
    "            'pod_type': pod_type\n",
    "        }\n",
    "        # sent a post request with the headers and parameters to pinecone database\n",
    "        res = requests.post(\n",
    "            f\"https://controller.{self.environment}.pinecone.io/databases\",\n",
    "            headers=self.headers,\n",
    "            json=params\n",
    "        )\n",
    "        # return the creation status\n",
    "        return res\n",
    "    \n",
    "    # get the project_id for the index and update self.host variable\n",
    "    def connect_index(self, index_name):\n",
    "        # set the self.host variable\n",
    "        self.host = f\"{index_name}-{self.project_id}.svc.{self.environment}.pinecone.io\"\n",
    "        res = self.describe_index_stats()\n",
    "        # return index related information as json\n",
    "        return res\n",
    "    \n",
    "    def describe_index(self, index_name):\n",
    "        # send a get request to pinecone database to get index description\n",
    "        res = requests.get(\n",
    "            f\"https://controller.{self.environment}.pinecone.io/databases/{index_name}\",\n",
    "            headers=self.headers\n",
    "        )\n",
    "        return res.json()\n",
    "\n",
    "    # returns description of the index\n",
    "    def describe_index_stats(self):\n",
    "        # send a get request to pinecone database to get index description\n",
    "        res = requests.get(\n",
    "            f\"https://{self.host}/describe_index_stats\",\n",
    "            headers=self.headers\n",
    "        )\n",
    "        # return the index description as json\n",
    "        return res.json()\n",
    "\n",
    "    # uploads the documents to pinecone database\n",
    "    def upsert(self, vectors):\n",
    "        # send a post request with vectors to pinecone database\n",
    "        res = requests.post(\n",
    "            f\"https://{self.host}/hybrid/vectors/upsert\",\n",
    "            headers=self.headers,\n",
    "            json={'vectors': vectors}\n",
    "        )\n",
    "        # return the http response status\n",
    "        return res\n",
    "\n",
    "    # searches pinecone database with the query\n",
    "    def query(self, query):\n",
    "        # sends a post request to hybrib vector index with the query dict\n",
    "        res = requests.post(\n",
    "            f\"https://{self.host}/hybrid/query\",\n",
    "            headers=self.headers,\n",
    "            json=query\n",
    "        )\n",
    "        # returns the result as json\n",
    "        return res.json()\n",
    "\n",
    "    # deletes an index in pinecone database\n",
    "    def delete_index(self, index_name):\n",
    "        # sends a delete request\n",
    "        res = requests.delete(\n",
    "            f\"https://controller.{self.environment}.pinecone.io/databases/{index_name}\",\n",
    "            headers=self.headers\n",
    "        )\n",
    "        # returns the http response status\n",
    "        return res"
   ]
  },
  {
   "cell_type": "markdown",
   "id": "88f0e557",
   "metadata": {
    "id": "AwPHT3yIdn5y"
   },
   "source": [
    "Let's initiate a connection and create an index. For this, we need a [free API key](https://app.pinecone.io/), and then we initialize the connection like so:"
   ]
  },
  {
   "cell_type": "code",
   "execution_count": 23,
   "id": "eccb6f72",
   "metadata": {
    "id": "n83cvMOXuXcD"
   },
   "outputs": [],
   "source": [
    "# initialize an instance of HybridPinecone class\n",
    "pinecone = HybridPinecone(\n",
    "    api_key = \"1f136ea0-a50c-4af1-a9ad-93de37970fab\",  # app.pinecone.io\n",
    "    environment = \"us-west1-gcp\"\n",
    ")"
   ]
  },
  {
   "cell_type": "markdown",
   "id": "c78d8fe6",
   "metadata": {
    "id": "7ZJ_n-hreMHD"
   },
   "source": [
    "We specify the metric type as \"dotproduct\" and dimension as 384 because the retriever we use to generate context embeddings outputs 384-dimension vectors."
   ]
  },
  {
   "cell_type": "code",
   "execution_count": 24,
   "id": "c867b2e9",
   "metadata": {
    "colab": {
     "base_uri": "https://localhost:8080/"
    },
    "id": "I2KnKuHcuuk8",
    "outputId": "ac21f34a-b163-4b69-c4c4-736a50617ca2"
   },
   "outputs": [
    {
     "data": {
      "text/plain": [
       "<Response [201]>"
      ]
     },
     "execution_count": 24,
     "metadata": {},
     "output_type": "execute_result"
    }
   ],
   "source": [
    "# choose a name for your index\n",
    "index_name = \"hybrid-test\"\n",
    "\n",
    "# create the index\n",
    "pinecone.create_index(\n",
    "    index_name = index_name,\n",
    "    dimension = 384,\n",
    "    metric = \"dotproduct\",\n",
    "    pod_type = \"s1h\"\n",
    ")"
   ]
  },
  {
   "cell_type": "markdown",
   "id": "e3aa165b",
   "metadata": {
    "id": "PWdW7PGnsvcU"
   },
   "source": [
    "Now we have created the hybrid vector index using the `\"s1h\"` hybrid `pod_type`. To connect to the index we must wait until it is ready, we can check it's status like so:"
   ]
  },
  {
   "cell_type": "code",
   "execution_count": 25,
   "id": "c29be891",
   "metadata": {
    "colab": {
     "base_uri": "https://localhost:8080/"
    },
    "id": "Bi5Qik1vsvcU",
    "outputId": "7d2caeef-883b-4c83-da42-328f682c54da"
   },
   "outputs": [
    {
     "data": {
      "text/plain": [
       "{'database': {'name': 'hybrid-test',\n",
       "  'index_type': 'approximated',\n",
       "  'metric': 'dotproduct',\n",
       "  'dimension': 384,\n",
       "  'replicas': 1,\n",
       "  'shards': 1,\n",
       "  'pods': 1,\n",
       "  'pod_type': 's1h',\n",
       "  'index_config': {'approximated': {'k_bits': 512}}},\n",
       " 'status': {'waiting': ['database'],\n",
       "  'crashed': [],\n",
       "  'host': 'hybrid-test-94a860f.svc.us-west1-gcp.pinecone.io',\n",
       "  'port': 433,\n",
       "  'state': 'Initializing',\n",
       "  'ready': False}}"
      ]
     },
     "execution_count": 25,
     "metadata": {},
     "output_type": "execute_result"
    }
   ],
   "source": [
    "pinecone.describe_index(index_name)"
   ]
  },
  {
   "cell_type": "markdown",
   "id": "c59ecce3",
   "metadata": {
    "id": "OiiXWh2ghdvs"
   },
   "source": [
    "If the `state` is `'Ready'` we can continue and connect to the index like so:"
   ]
  },
  {
   "cell_type": "code",
   "execution_count": 27,
   "id": "c25e1254",
   "metadata": {
    "colab": {
     "base_uri": "https://localhost:8080/"
    },
    "id": "-gZK5K_-wIMn",
    "outputId": "7f4e3426-0918-4cb1-cf31-6947638a5bf2"
   },
   "outputs": [
    {
     "data": {
      "text/plain": [
       "{'namespaces': {}, 'dimension': 384, 'indexFullness': 0, 'totalVectorCount': 0}"
      ]
     },
     "execution_count": 27,
     "metadata": {},
     "output_type": "execute_result"
    }
   ],
   "source": [
    "pinecone.connect_index(index_name)"
   ]
  },
  {
   "cell_type": "markdown",
   "id": "8470b6e5",
   "metadata": {
    "id": "jfQ8_Uqf_f-8"
   },
   "source": [
    "## Load Dataset\n",
    "\n",
    "We will use a json file containing a web crawl of pinecone.io"
   ]
  },
  {
   "cell_type": "code",
   "execution_count": 28,
   "id": "47436f05",
   "metadata": {},
   "outputs": [],
   "source": [
    "df = pd.read_json(\"Pinecone_io_Webcrawl.json\")\n",
    "\n",
    "sentences = []\n",
    "urls = []\n",
    "\n",
    "for doc in df.response.docs:\n",
    "    #content =  str(doc.get('title')) + ' ' + str(doc.get('content'))\n",
    "    content =  str(doc.get('content'))\n",
    "    sentences.append(''.join(content[:5000]))\n",
    "    url = str(doc.get('url'))\n",
    "    urls.append(url)"
   ]
  },
  {
   "cell_type": "markdown",
   "id": "bc9090a1",
   "metadata": {
    "id": "PyuqZHg_j22O"
   },
   "source": [
    "## Sparse Vectors"
   ]
  },
  {
   "cell_type": "markdown",
   "id": "adbe5161",
   "metadata": {
    "id": "pj_-5m9p_f-9"
   },
   "source": [
    "We will use the BERT tokenizer to create sparse vectors, i.e. we will take the token IDs."
   ]
  },
  {
   "cell_type": "code",
   "execution_count": 29,
   "id": "7c4b5355",
   "metadata": {
    "colab": {
     "base_uri": "https://localhost:8080/",
     "height": 145,
     "referenced_widgets": [
      "d53abbf94f4940f6a5f8fee19287fcda",
      "4002881c1c7f4f15a16a26a49dcc8215",
      "f22e1a1391244f0c9ca035a9afa6a759",
      "37b48fe5f5a4434b989ade8ae01bfae6",
      "820dc52d19004802812f042529f1ab63",
      "d2e5c122610f4c26a2459208dc3a7e27",
      "91e1e2a2a6604412afe93a54d9464520",
      "6d37cb5c144846cf96f3ec8f2d317ec2",
      "2cee7bd96f984af9ae830d33569c2b75",
      "36da60255be6456d82e05c55408549c0",
      "9d94f23fc59945a79896415ca5dc7200",
      "9bf28f6509f84a7ea0395e25c9464b1d",
      "572ae4cb995e4eb889c97402436c4a14",
      "ff5f803b97234fc79f34809b616d4ba2",
      "a4f4c5dd1175485e91f4fa5a9e536d2c",
      "db32c27ce80d4de39e7a897613ab92e6",
      "b3eeda2cbddc4cd1915adee69e3db77f",
      "6f5c9b4180054fcebdf74a5c9f4e1328",
      "65f328726dc6492fb29df53da6ab02a6",
      "95305e6dcb544ceba78af0ee55688852",
      "4720331260eb4905b4bd45bf9aff4be4",
      "7de95b090f9f4178985feee7f35edb28",
      "260a2c3a78b3441e820522f4a4c04da8",
      "c2249564ce77497da3cfb1d9f42d7dcf",
      "60bc87fc20304983a3e574f8a36eaaed",
      "b094f99816004968b2273029a0d19cb7",
      "5c635821a85042d183eca9d842ef08d9",
      "55e240e2cdad4ad6a750d92b89ae2149",
      "48bd9d63184c4e228ac42c7337f37de2",
      "a375ae1e16b64390950ef76791486562",
      "e0c1273ac30849839e1a8fd4f6cdbf39",
      "908646d92b3e4e87ade563902f44496c",
      "3cec1dbc873b4483a231c7fbe50d60f0",
      "d4863fddae334c9f94030bacc37750d4",
      "06f81cf42e194e88b6f34ee490a89aff",
      "bf9164e0b39440359336c3fe8927be74",
      "5e30ff2ce7c84738b8021fbb48321870",
      "d5d09b5d397a4c238b29a7520e3ef26f",
      "4b87dcdab5aa4f248285975e530c303d",
      "b62253243f0246cfb3a82e4999bd7801",
      "ed1870107bb4437389775e83f29704a3",
      "5f8b8766c5fd41a7bbdfb8915dcb20cd",
      "ce1198d5237f4887be6066dd5f4ad73e",
      "ca931bc257a54695a8494968cfa3c775"
     ]
    },
    "id": "Zka805CX_f-9",
    "outputId": "7dd3dd50-5f97-4056-b77d-b5bf9c26377e"
   },
   "outputs": [],
   "source": [
    "from transformers import BertTokenizerFast\n",
    "\n",
    "# load bert tokenizer from huggingface\n",
    "tokenizer = BertTokenizerFast.from_pretrained(\n",
    "    'bert-base-uncased'\n",
    ")"
   ]
  },
  {
   "cell_type": "markdown",
   "id": "d117a034",
   "metadata": {
    "id": "rwCSrQR4kYOT"
   },
   "source": [
    "Let's create a sparse vector for a context passage."
   ]
  },
  {
   "cell_type": "code",
   "execution_count": 30,
   "id": "4727b16b",
   "metadata": {
    "colab": {
     "base_uri": "https://localhost:8080/"
    },
    "id": "U8DMRNNF_f-9",
    "outputId": "f4a866ac-4101-43e5-f165-de344be73aba"
   },
   "outputs": [
    {
     "data": {
      "text/plain": [
       "dict_keys(['input_ids', 'token_type_ids', 'attention_mask'])"
      ]
     },
     "execution_count": 30,
     "metadata": {},
     "output_type": "execute_result"
    }
   ],
   "source": [
    "# tokenize the context passage\n",
    "inputs = tokenizer(\n",
    "    str(sentences), padding=True, truncation=True,\n",
    "    max_length=512\n",
    ")\n",
    "inputs.keys()"
   ]
  },
  {
   "cell_type": "code",
   "execution_count": 31,
   "id": "ce6a0b60",
   "metadata": {
    "colab": {
     "base_uri": "https://localhost:8080/"
    },
    "id": "DLsbyFfs_f-9",
    "outputId": "6bf1cb49-7036-4dde-a585-eb66b853a84e"
   },
   "outputs": [
    {
     "data": {
      "text/plain": [
       "[101,\n",
       " 1031,\n",
       " 1005,\n",
       " 3967,\n",
       " 1064,\n",
       " 7222,\n",
       " 8663,\n",
       " 2063,\n",
       " 1032,\n",
       " 21411,\n",
       " 23553,\n",
       " 1032,\n",
       " 1050,\n",
       " 3527,\n",
       " 6169,\n",
       " 1032,\n",
       " 17953,\n",
       " 14644,\n",
       " 2078,\n",
       " 1032,\n",
       " 17953,\n",
       " 14644,\n",
       " 5582,\n",
       " 2415,\n",
       " 1032,\n",
       " 13316,\n",
       " 5358,\n",
       " 23041,\n",
       " 3012,\n",
       " 1032,\n",
       " 13316,\n",
       " 25377,\n",
       " 19092,\n",
       " 1032,\n",
       " 6583,\n",
       " 5092,\n",
       " 4904,\n",
       " 1032,\n",
       " 13316,\n",
       " 12069,\n",
       " 2545,\n",
       " 1032,\n",
       " 27937,\n",
       " 8445,\n",
       " 16912,\n",
       " 1032,\n",
       " 23961,\n",
       " 7946,\n",
       " 2102,\n",
       " 1004,\n",
       " 3036,\n",
       " 1032,\n",
       " 13316,\n",
       " 12162,\n",
       " 18908,\n",
       " 1032,\n",
       " 17953,\n",
       " 8649,\n",
       " 1999,\n",
       " 1032,\n",
       " 24978,\n",
       " 23773,\n",
       " 2039,\n",
       " 2489,\n",
       " 1032,\n",
       " 21411,\n",
       " 23553,\n",
       " 1032,\n",
       " 1050,\n",
       " 3527,\n",
       " 6169,\n",
       " 1032,\n",
       " 17953,\n",
       " 14644,\n",
       " 2078,\n",
       " 1032,\n",
       " 13316,\n",
       " 5358,\n",
       " 23041,\n",
       " 3012,\n",
       " 1032,\n",
       " 13316,\n",
       " 25377,\n",
       " 19092,\n",
       " 1032,\n",
       " 13316,\n",
       " 12069,\n",
       " 2545,\n",
       " 1032,\n",
       " 27937,\n",
       " 8445,\n",
       " 16912,\n",
       " 1032,\n",
       " 23961,\n",
       " 7946,\n",
       " 2102,\n",
       " 1004,\n",
       " 3036,\n",
       " 1032,\n",
       " 13316,\n",
       " 12162,\n",
       " 18908,\n",
       " 1032,\n",
       " 17953,\n",
       " 8649,\n",
       " 1999,\n",
       " 1032,\n",
       " 13316,\n",
       " 29313,\n",
       " 4070,\n",
       " 1032,\n",
       " 23961,\n",
       " 8649,\n",
       " 9354,\n",
       " 12183,\n",
       " 1032,\n",
       " 23961,\n",
       " 2389,\n",
       " 2243,\n",
       " 2000,\n",
       " 1996,\n",
       " 9207,\n",
       " 3945,\n",
       " 8519,\n",
       " 1032,\n",
       " 24978,\n",
       " 10497,\n",
       " 2149,\n",
       " 2115,\n",
       " 3980,\n",
       " 2055,\n",
       " 7222,\n",
       " 8663,\n",
       " 2063,\n",
       " 2030,\n",
       " 4751,\n",
       " 2055,\n",
       " 2115,\n",
       " 9207,\n",
       " 3945,\n",
       " 3791,\n",
       " 1012,\n",
       " 2057,\n",
       " 1521,\n",
       " 2222,\n",
       " 6134,\n",
       " 1037,\n",
       " 2051,\n",
       " 2000,\n",
       " 4553,\n",
       " 1998,\n",
       " 3745,\n",
       " 2062,\n",
       " 2007,\n",
       " 2017,\n",
       " 1012,\n",
       " 1032,\n",
       " 15737,\n",
       " 3372,\n",
       " 2000,\n",
       " 3046,\n",
       " 7222,\n",
       " 8663,\n",
       " 2063,\n",
       " 1029,\n",
       " 2707,\n",
       " 2182,\n",
       " 1012,\n",
       " 1032,\n",
       " 21411,\n",
       " 7971,\n",
       " 1998,\n",
       " 2236,\n",
       " 27050,\n",
       " 1024,\n",
       " 18558,\n",
       " 1030,\n",
       " 7222,\n",
       " 8663,\n",
       " 2063,\n",
       " 1012,\n",
       " 22834,\n",
       " 1032,\n",
       " 24978,\n",
       " 6279,\n",
       " 6442,\n",
       " 1024,\n",
       " 2490,\n",
       " 1030,\n",
       " 7222,\n",
       " 8663,\n",
       " 2063,\n",
       " 1012,\n",
       " 22834,\n",
       " 3191,\n",
       " 1996,\n",
       " 9986,\n",
       " 2015,\n",
       " 1032,\n",
       " 1050,\n",
       " 5280,\n",
       " 1521,\n",
       " 1056,\n",
       " 6039,\n",
       " 2023,\n",
       " 2041,\n",
       " 2065,\n",
       " 2017,\n",
       " 1521,\n",
       " 2128,\n",
       " 2529,\n",
       " 1024,\n",
       " 1032,\n",
       " 1050,\n",
       " 8873,\n",
       " 12096,\n",
       " 2171,\n",
       " 1032,\n",
       " 17953,\n",
       " 14083,\n",
       " 2171,\n",
       " 1032,\n",
       " 22064,\n",
       " 2953,\n",
       " 2243,\n",
       " 10373,\n",
       " 1032,\n",
       " 19193,\n",
       " 16429,\n",
       " 2516,\n",
       " 1032,\n",
       " 13316,\n",
       " 25377,\n",
       " 19092,\n",
       " 1032,\n",
       " 27937,\n",
       " 27406,\n",
       " 1032,\n",
       " 13316,\n",
       " 5358,\n",
       " 8163,\n",
       " 1032,\n",
       " 13316,\n",
       " 12162,\n",
       " 18908,\n",
       " 2149,\n",
       " 1032,\n",
       " 1050,\n",
       " 3762,\n",
       " 12040,\n",
       " 3436,\n",
       " 2017,\n",
       " 5993,\n",
       " 2000,\n",
       " 2256,\n",
       " 9394,\n",
       " 3343,\n",
       " 1998,\n",
       " 2000,\n",
       " 4374,\n",
       " 2592,\n",
       " 2013,\n",
       " 7222,\n",
       " 8663,\n",
       " 2063,\n",
       " 3141,\n",
       " 2000,\n",
       " 2256,\n",
       " 3688,\n",
       " 1012,\n",
       " 2017,\n",
       " 2064,\n",
       " 4895,\n",
       " 6342,\n",
       " 5910,\n",
       " 26775,\n",
       " 20755,\n",
       " 2012,\n",
       " 2151,\n",
       " 2051,\n",
       " 1012,\n",
       " 1032,\n",
       " 23770,\n",
       " 11488,\n",
       " 3351,\n",
       " 2363,\n",
       " 999,\n",
       " 2057,\n",
       " 2097,\n",
       " 7514,\n",
       " 2004,\n",
       " 2574,\n",
       " 2004,\n",
       " 2057,\n",
       " 2064,\n",
       " 1012,\n",
       " 2005,\n",
       " 2085,\n",
       " 2017,\n",
       " 2064,\n",
       " 3046,\n",
       " 7222,\n",
       " 8663,\n",
       " 2063,\n",
       " 2005,\n",
       " 2489,\n",
       " 1010,\n",
       " 3191,\n",
       " 1996,\n",
       " 9986,\n",
       " 2015,\n",
       " 1010,\n",
       " 2030,\n",
       " 4553,\n",
       " 2062,\n",
       " 2055,\n",
       " 14402,\n",
       " 3945,\n",
       " 1012,\n",
       " 1032,\n",
       " 1050,\n",
       " 7011,\n",
       " 18450,\n",
       " 2000,\n",
       " 12040,\n",
       " 1012,\n",
       " 1032,\n",
       " 22064,\n",
       " 12707,\n",
       " 2097,\n",
       " 2017,\n",
       " 3857,\n",
       " 1029,\n",
       " 1032,\n",
       " 16371,\n",
       " 26952,\n",
       " 13662,\n",
       " 2115,\n",
       " 3945,\n",
       " 2030,\n",
       " 12832,\n",
       " 3001,\n",
       " 2007,\n",
       " 2074,\n",
       " 1037,\n",
       " 2261,\n",
       " 3210,\n",
       " 1997,\n",
       " 3642,\n",
       " 1010,\n",
       " 2030,\n",
       " 3967,\n",
       " 2149,\n",
       " 2005,\n",
       " 2393,\n",
       " 1012,\n",
       " 1032,\n",
       " 13316,\n",
       " 29313,\n",
       " 4070,\n",
       " 1032,\n",
       " 21411,\n",
       " 23553,\n",
       " 1032,\n",
       " 1050,\n",
       " 3527,\n",
       " 6169,\n",
       " 1032,\n",
       " 17953,\n",
       " 14644,\n",
       " 2078,\n",
       " 1032,\n",
       " 13316,\n",
       " 25377,\n",
       " 19092,\n",
       " 1032,\n",
       " 13316,\n",
       " 12162,\n",
       " 18908,\n",
       " 1032,\n",
       " 13316,\n",
       " 12069,\n",
       " 2545,\n",
       " 1032,\n",
       " 1050,\n",
       " 29652,\n",
       " 7222,\n",
       " 8663,\n",
       " 2063,\n",
       " 3001,\n",
       " 1010,\n",
       " 4297,\n",
       " 1012,\n",
       " 1064,\n",
       " 2624,\n",
       " 19327,\n",
       " 1010,\n",
       " 6187,\n",
       " 1064,\n",
       " 3408,\n",
       " 1064,\n",
       " 9394,\n",
       " 1064,\n",
       " 4031,\n",
       " 9394,\n",
       " 1064,\n",
       " 16324,\n",
       " 1064,\n",
       " 3404,\n",
       " 1004,\n",
       " 3036,\n",
       " 1032,\n",
       " 27937,\n",
       " 3170,\n",
       " 8663,\n",
       " 2063,\n",
       " 2003,\n",
       " 1037,\n",
       " 5068,\n",
       " 11749,\n",
       " 1997,\n",
       " 7222,\n",
       " 8663,\n",
       " 2063,\n",
       " 3001,\n",
       " 1010,\n",
       " 4297,\n",
       " 1012,\n",
       " 1032,\n",
       " 1050,\n",
       " 5280,\n",
       " 1521,\n",
       " 1056,\n",
       " 6039,\n",
       " 2023,\n",
       " 2041,\n",
       " 2065,\n",
       " 2017,\n",
       " 1521,\n",
       " 2128,\n",
       " 2529,\n",
       " 1024,\n",
       " 1032,\n",
       " 12835,\n",
       " 3388,\n",
       " 4031,\n",
       " 1998,\n",
       " 3720,\n",
       " 14409,\n",
       " 1032,\n",
       " 12835,\n",
       " 3388,\n",
       " 14409,\n",
       " 1032,\n",
       " 24978,\n",
       " 12083,\n",
       " 29234,\n",
       " 2094,\n",
       " 5147,\n",
       " 1012,\n",
       " 1032,\n",
       " 1050,\n",
       " 7011,\n",
       " 18450,\n",
       " 2000,\n",
       " 12040,\n",
       " 1012,\n",
       " 1032,\n",
       " 1050,\n",
       " 1005,\n",
       " 1010,\n",
       " 1005,\n",
       " 4083,\n",
       " 2415,\n",
       " 1064,\n",
       " 7222,\n",
       " 8663,\n",
       " 2063,\n",
       " 1032,\n",
       " 21411,\n",
       " 23553,\n",
       " 1032,\n",
       " 1050,\n",
       " 3527,\n",
       " 6169,\n",
       " 1032,\n",
       " 17953,\n",
       " 14644,\n",
       " 2078,\n",
       " 1032,\n",
       " 17953,\n",
       " 14644,\n",
       " 5582,\n",
       " 2415,\n",
       " 1032,\n",
       " 13316,\n",
       " 5358,\n",
       " 23041,\n",
       " 3012,\n",
       " 1032,\n",
       " 13316,\n",
       " 25377,\n",
       " 19092,\n",
       " 1032,\n",
       " 6583,\n",
       " 5092,\n",
       " 4904,\n",
       " 1032,\n",
       " 13316,\n",
       " 12069,\n",
       " 2545,\n",
       " 102]"
      ]
     },
     "execution_count": 31,
     "metadata": {},
     "output_type": "execute_result"
    }
   ],
   "source": [
    "# extract the input ids\n",
    "input_ids = inputs['input_ids']\n",
    "input_ids"
   ]
  },
  {
   "cell_type": "markdown",
   "id": "9fd59b62",
   "metadata": {
    "id": "PBNGXPMH_f--"
   },
   "source": [
    "We need to convert this into a dictionary of key to frequency values."
   ]
  },
  {
   "cell_type": "code",
   "execution_count": 32,
   "id": "b1c40993",
   "metadata": {
    "colab": {
     "base_uri": "https://localhost:8080/"
    },
    "id": "tDfAIC9vleBd",
    "outputId": "f7777643-58d1-48d0-c90e-c30a91d0b210"
   },
   "outputs": [
    {
     "data": {
      "text/plain": [
       "{101: 1,\n",
       " 1031: 1,\n",
       " 1005: 3,\n",
       " 3967: 2,\n",
       " 1064: 8,\n",
       " 7222: 10,\n",
       " 8663: 11,\n",
       " 2063: 11,\n",
       " 1032: 67,\n",
       " 21411: 5,\n",
       " 23553: 4,\n",
       " 1050: 12,\n",
       " 3527: 4,\n",
       " 6169: 4,\n",
       " 17953: 9,\n",
       " 14644: 6,\n",
       " 2078: 4,\n",
       " 5582: 2,\n",
       " 2415: 3,\n",
       " 13316: 19,\n",
       " 5358: 4,\n",
       " 23041: 3,\n",
       " 3012: 3,\n",
       " 25377: 5,\n",
       " 19092: 5,\n",
       " 6583: 2,\n",
       " 5092: 2,\n",
       " 4904: 2,\n",
       " 12069: 4,\n",
       " 2545: 4,\n",
       " 27937: 4,\n",
       " 8445: 2,\n",
       " 16912: 2,\n",
       " 23961: 4,\n",
       " 7946: 2,\n",
       " 2102: 2,\n",
       " 1004: 3,\n",
       " 3036: 3,\n",
       " 12162: 4,\n",
       " 18908: 4,\n",
       " 8649: 3,\n",
       " 1999: 2,\n",
       " 24978: 4,\n",
       " 23773: 1,\n",
       " 2039: 1,\n",
       " 2489: 2,\n",
       " 29313: 2,\n",
       " 4070: 2,\n",
       " 9354: 1,\n",
       " 12183: 1,\n",
       " 2389: 1,\n",
       " 2243: 2,\n",
       " 2000: 8,\n",
       " 1996: 3,\n",
       " 9207: 2,\n",
       " 3945: 4,\n",
       " 8519: 1,\n",
       " 10497: 1,\n",
       " 2149: 3,\n",
       " 2115: 3,\n",
       " 3980: 1,\n",
       " 2055: 3,\n",
       " 2030: 4,\n",
       " 4751: 1,\n",
       " 3791: 1,\n",
       " 1012: 15,\n",
       " 2057: 3,\n",
       " 1521: 5,\n",
       " 2222: 1,\n",
       " 6134: 1,\n",
       " 1037: 3,\n",
       " 2051: 2,\n",
       " 4553: 2,\n",
       " 1998: 4,\n",
       " 3745: 1,\n",
       " 2062: 2,\n",
       " 2007: 2,\n",
       " 2017: 7,\n",
       " 15737: 1,\n",
       " 3372: 1,\n",
       " 3046: 2,\n",
       " 1029: 2,\n",
       " 2707: 1,\n",
       " 2182: 1,\n",
       " 7971: 1,\n",
       " 2236: 1,\n",
       " 27050: 1,\n",
       " 1024: 4,\n",
       " 18558: 1,\n",
       " 1030: 2,\n",
       " 22834: 2,\n",
       " 6279: 1,\n",
       " 6442: 1,\n",
       " 2490: 1,\n",
       " 3191: 2,\n",
       " 9986: 2,\n",
       " 2015: 2,\n",
       " 5280: 2,\n",
       " 1056: 2,\n",
       " 6039: 2,\n",
       " 2023: 2,\n",
       " 2041: 2,\n",
       " 2065: 2,\n",
       " 2128: 2,\n",
       " 2529: 2,\n",
       " 8873: 1,\n",
       " 12096: 1,\n",
       " 2171: 2,\n",
       " 14083: 1,\n",
       " 22064: 2,\n",
       " 2953: 1,\n",
       " 10373: 1,\n",
       " 19193: 1,\n",
       " 16429: 1,\n",
       " 2516: 1,\n",
       " 27406: 1,\n",
       " 8163: 1,\n",
       " 3762: 1,\n",
       " 12040: 3,\n",
       " 3436: 1,\n",
       " 5993: 1,\n",
       " 2256: 2,\n",
       " 9394: 3,\n",
       " 3343: 1,\n",
       " 4374: 1,\n",
       " 2592: 1,\n",
       " 2013: 1,\n",
       " 3141: 1,\n",
       " 3688: 1,\n",
       " 2064: 3,\n",
       " 4895: 1,\n",
       " 6342: 1,\n",
       " 5910: 1,\n",
       " 26775: 1,\n",
       " 20755: 1,\n",
       " 2012: 1,\n",
       " 2151: 1,\n",
       " 23770: 1,\n",
       " 11488: 1,\n",
       " 3351: 1,\n",
       " 2363: 1,\n",
       " 999: 1,\n",
       " 2097: 2,\n",
       " 7514: 1,\n",
       " 2004: 2,\n",
       " 2574: 1,\n",
       " 2005: 3,\n",
       " 2085: 1,\n",
       " 1010: 7,\n",
       " 14402: 1,\n",
       " 7011: 2,\n",
       " 18450: 2,\n",
       " 12707: 1,\n",
       " 3857: 1,\n",
       " 16371: 1,\n",
       " 26952: 1,\n",
       " 13662: 1,\n",
       " 12832: 1,\n",
       " 3001: 3,\n",
       " 2074: 1,\n",
       " 2261: 1,\n",
       " 3210: 1,\n",
       " 1997: 2,\n",
       " 3642: 1,\n",
       " 2393: 1,\n",
       " 29652: 1,\n",
       " 4297: 2,\n",
       " 2624: 1,\n",
       " 19327: 1,\n",
       " 6187: 1,\n",
       " 3408: 1,\n",
       " 4031: 2,\n",
       " 16324: 1,\n",
       " 3404: 1,\n",
       " 3170: 1,\n",
       " 2003: 1,\n",
       " 5068: 1,\n",
       " 11749: 1,\n",
       " 12835: 2,\n",
       " 3388: 2,\n",
       " 3720: 1,\n",
       " 14409: 2,\n",
       " 12083: 1,\n",
       " 29234: 1,\n",
       " 2094: 1,\n",
       " 5147: 1,\n",
       " 4083: 1,\n",
       " 102: 1}"
      ]
     },
     "execution_count": 32,
     "metadata": {},
     "output_type": "execute_result"
    }
   ],
   "source": [
    "# convert the input_ids list to a dictionary of key to frequency values\n",
    "sparse_vec = dict(Counter(input_ids))\n",
    "sparse_vec"
   ]
  },
  {
   "cell_type": "markdown",
   "id": "cfc8f977",
   "metadata": {
    "id": "aOjHydCsl2OZ"
   },
   "source": [
    "Let's write a function to do this in batches. Notice that we are removing some keys from the dictionary. These are special tokens from the tokenizer which we do not really need when creating sparse vectors."
   ]
  },
  {
   "cell_type": "code",
   "execution_count": 33,
   "id": "08676083",
   "metadata": {
    "id": "azF1uiGQln86"
   },
   "outputs": [],
   "source": [
    "def build_dict(input_batch):\n",
    "  # store a batch of sparse embeddings\n",
    "    sparse_emb = []\n",
    "    # iterate through input batch\n",
    "    for token_ids in input_batch:\n",
    "        # convert the input_ids list to a dictionary of key to frequency values\n",
    "        d = dict(Counter(token_ids))\n",
    "        # remove special tokens and append sparse vectors to sparse_emb list\n",
    "        sparse_emb.append({key: d[key] for key in d if key not in [101, 102, 103, 0]})\n",
    "    # return sparse_emb list\n",
    "    return sparse_emb"
   ]
  },
  {
   "cell_type": "markdown",
   "id": "032e3919",
   "metadata": {
    "id": "PIFAEmBqoygv"
   },
   "source": [
    "Let's write another function to help us generate sparse vectors in batches."
   ]
  },
  {
   "cell_type": "code",
   "execution_count": 34,
   "id": "480f992b",
   "metadata": {
    "id": "7zMnixVGjbl8"
   },
   "outputs": [],
   "source": [
    "def generate_sparse_vectors(context_batch):\n",
    "    # create batch of input_ids\n",
    "    inputs = tokenizer(\n",
    "            context_batch, padding=True,\n",
    "            truncation=True,\n",
    "            max_length=512\n",
    "    )['input_ids']\n",
    "    # create sparse dictionaries\n",
    "    sparse_embeds = build_dict(inputs)\n",
    "    return sparse_embeds"
   ]
  },
  {
   "cell_type": "markdown",
   "id": "40c6dd7c",
   "metadata": {
    "id": "3EXN_DWknlKT"
   },
   "source": [
    "## Dense Vectors"
   ]
  },
  {
   "cell_type": "markdown",
   "id": "bc002edf",
   "metadata": {
    "id": "YA4muHaL_f--"
   },
   "source": [
    "Alongside sparse vectors we must also add dense vectors (as usual). We do this like so:"
   ]
  },
  {
   "cell_type": "code",
   "execution_count": 35,
   "id": "80bb88a5",
   "metadata": {
    "colab": {
     "base_uri": "https://localhost:8080/",
     "height": 604,
     "referenced_widgets": [
      "2f38b3527fe14fb1b9958613d0f7e386",
      "e94509b6f25e4d83a75ac096256a4771",
      "b67a6ddd1758479796a57c8a21217b56",
      "0e2d25ed676c4fd0ad4ea487aa69001a",
      "64572e360eeb40d0b16db9dc1de0a099",
      "b75b11a6c4b64726bac1adf90af73d3a",
      "5b0c9216b5d144be82bbb7630fbb790f",
      "a559d17f5c1344d1a2e5a0f4f6547fd6",
      "3b796a84261c415c84d1457f4cce7844",
      "10f564e660a74046a731742c0a1a8f66",
      "51991656340c433c8d880bb8d448a05d",
      "b8e6aa1194c34d4e968b77932bd85fe2",
      "63e1f1da82ed413ebf57cebe64a2f198",
      "329c4daaa8e2443b893dfe48f2177486",
      "71a04cb9ad9a41cba499c4c83f2b000c",
      "4663c6ec8e72414e993b13267f9459f7",
      "212a288b630a4f8e997b1fef8df1e8a4",
      "f1dfcf865aff49238c8a6486670cef4a",
      "e03737ba0fcd43729b0089876b62df59",
      "f8662e9941424646a1dc6202a5f80724",
      "9d0c1a85a588423daffb6243285df9a8",
      "d8925d7af4b846babef176fdf1a8d52b",
      "150d19b8f75a46bf9033329151300aaa",
      "8844daa615b64d7c9e03fc2b86f86475",
      "f39a73b76254403887d7dd368a94192b",
      "a8f615a97a9243cdb006741b4ef75ee0",
      "5204c1bc87da418aaaccf01bc0af4ebd",
      "f88046bef3a4446eafe177740273dbc9",
      "c7e8934d03214661a27f3fadc6ba11c1",
      "e609014a61d745a387ee987a25c40d69",
      "10949c8beea943ac9b77ab3015f5a87c",
      "68b623c1fe0341388acbcf4941c97ab1",
      "e2ace8eaeff9483282cc1f38328c3991",
      "e73c452e5ce3412eb2904bda839e2651",
      "be0296955d734a279b7fa522ca1113eb",
      "d04e7259844b4cd2ac142141f8fe087a",
      "4e16d098a2bb4ce887d00bb2ea6ff1d2",
      "27eee5b1b7724e88b57e98e065e48396",
      "6365f53b14804a0c9b9a4e665ffc3d37",
      "250d007acfb04880828b637382def739",
      "55e72569dcfd4fa3b837938aaac1830a",
      "879f71fbec3f48a0b691230da8de331d",
      "460075280d6041adba5760d3a196d95f",
      "ac49b19262934afaa22828726ec46163",
      "6f49c63b4e8c456ea497f9a5a7100844",
      "1d6a110022c5417f916e91e88580ea6f",
      "0ca7dc5cf22a4e3e8b2278d016b54cc2",
      "003de4aa90ce4e6a8085e6759c1d3657",
      "668ee231e19b4c159e78b2d594c2cfd7",
      "242bcddc6a4b43108fe3287fa6a74e5b",
      "20066a20d8b342e7a1858c5fc1001a0a",
      "dc3d8127bd964b0785f22a0075c5c669",
      "f667389b1c5a452aa667ff5979f2e558",
      "313e3b15e2554081879b2e0d1e60a00f",
      "1c8a24e9b5c84a95ad8f0ced8c7cc5a9",
      "761c6312871f4e8393f2a7ba2b3c106a",
      "d89b579d0cf34c7da794d82163a205d7",
      "6c739809d3624a85b804812a5f39f3e0",
      "6aaf9fc8a29441e8a5ba280da2979e78",
      "5b4b14f4b7d54b4f97d2a761c47fcec5",
      "9001c40576a84d9fbfb0c0ad5c37d008",
      "4aec5b65862943ad8ca87376dc8cbb2e",
      "78bd055b1caa43f9a24078edbd666dba",
      "b9643cc066c241488382003753373a65",
      "2d53c7d95a214ad8b5498b718678007d",
      "ad18050a5d6540c99d0b4841fb7b9c7d",
      "3a7ba809f90b4a0d9faf6f3345a5b995",
      "f4a6f0a3fec547809078882a388a6395",
      "8dbd664e9cbb495293d56ba9f0d84ca8",
      "cc39baaa482244d9ad3c84593b92107c",
      "8eca35eb6c724b6899f63ccddbc3d8c5",
      "cbfe212bb58d4c3cb6b3e6e5009a7ef1",
      "48320376c7fa42b59d6e13a1d07a0a4e",
      "fe8746e5d43640d8af51f9de15e5e933",
      "3929f53771614731aee73db0b8edd407",
      "3319b49a33b24645a43f485ad4d758f7",
      "35f36fe3c3b9481c82234cbceea97834",
      "9458ef6a56734af9bea9a44d4f7a2e2a",
      "19ac7eff95df48e088a0ee182ab794da",
      "7587f836d2e640778ec0323077192e50",
      "85731d5f91be42d0a3410b23112f6c65",
      "15ed4d9baae84df892593d8f804b01c0",
      "68c4542e6d374d9bbb8c341da76c7dbe",
      "26a4393c3efc427493592a89553d1513",
      "9e83b7bec0d046c58b22b92fc9ac5ae1",
      "6f33a7846815400494b52cb2ccfd06ca",
      "b1398b1f5cfe476fb4db73c4692c057c",
      "5168bb11858b472c9d9e5b66d8871e4e",
      "6d895fc0eb5842a69dc226f2334c1093",
      "b86e4c2ba33245869b70880c1f51b944",
      "50d2a1b24ad541e4b0b7a9637305d124",
      "8afdfa9a2c68408db2d10386bee09e13",
      "6a88c29c405f4dd1b74b379d5b2c6e55",
      "f2ba281b62444ee28366aa400c7ec515",
      "439acdf13f5d4d438807f666bca32a2e",
      "cb2f0b9e50a94c389cea20870bf9e5b4",
      "0c02920c298244c5bf4533768cde34d6",
      "c89d19150cac4b3a8ed9a7f1f78adcd8",
      "2066514c18fb435683d60b15c1d226be",
      "e983e10ade834d7ba1a7cef977799788",
      "75ad4c8f201b40fa868d7d54f5ad5fd5",
      "79c39c31f90049b888fd0f03b583557c",
      "c248312edbb54c6c8bf9e05ddd77ca5e",
      "b892fb412c4241df99965abb5328ce54",
      "99d5d24ec0224cfbaf63edabc8476a22",
      "ea1435593e224ed8839000ba07d26f36",
      "2e3b4bb7f5d14e4191378693eceddbb5",
      "766f5a4fb1c64932b326091464836a88",
      "986922bd286a4c0ab7eb46da62dafebe",
      "2aab345be9e8455091deb5b9bd349315",
      "460b7881acae4814a331a78a5338188f",
      "51cad4cee9304d878d312b5a3610e6bf",
      "075f3e56475e471fb8c79ee7de01cddd",
      "b4e726c7204d423cbb49a01e24b68a8d",
      "4053d7505b5443cc87432c72d356896d",
      "291244b351dd4b2b9989ce07d12af334",
      "c50df4b1f4e74b2395bc78acbc4b0aed",
      "eca3af151eb14a65b2ceecfd608270da",
      "d7fe3fa53b754766b09b2649964d30f3",
      "5505b0fc5aa14d2497fc34208f226f46",
      "5e020b125d5f4a488353e9f8ef16f7df",
      "ca8035ce703843c083226b84a5b2d2b2",
      "090c7e0b66fc454d886e3ed16e91a5f2",
      "859afece210c4ec6a4a84abd093c79c2",
      "9516bd6ded7d449da93432cbcc010756",
      "60db9656a68546d0b89ff40c2503d469",
      "06d3f29c28f540958c0e31b4f8e97d19",
      "4c49091821d94347bcf836d8adbddace",
      "2dbde5c8886443fc812cc817b16f671d",
      "023f2ceb59444deab0d5a05738f2cdf1",
      "3b531535c75d403aba7ee4721834db99",
      "3ddbda05a3c848029f8fa1be8d19dfd7",
      "03052312477a4ca1b67171e42d085a55",
      "48f977ae07d848f38b0025c84d6a0699",
      "4df74cee7b3a4759aa2a6387857bed51",
      "585fe2b8d21f4326b0c940ba3bd7351d",
      "5e4bfe20f3724d9cbb1e8f8b6dd89953",
      "6d4d03cbcf8b410d98360d34d4d32f4e",
      "565d3df4e92046fca4e8aada4c859931",
      "5491f04a28664bed8be38a5494b7ccd1",
      "44a3bee7d17f42548ed588b9d2a5af4f",
      "09405ad7aece4a78803ec67ed94ee23e",
      "3492fc314f744fe0a07f193a215c1bc8",
      "45074d003c0a4c1eb2b8b10c4252aa9f",
      "57eef46cd24f430da5fb38f03c435ea7",
      "2a162fb5861e495194f47eef8edcd49d",
      "1fc15a1b4e9848db900e70f733037afe",
      "ef2464eee836437e8b0a44f8715fec69",
      "12d7bea2e364417ab82a4940489ca3a2",
      "00057684117d455884b33ae0219a30b5",
      "3c6d6d178a1a47b09af62a461023a5d5",
      "c3b00d42d9e94805bc81838396c618fa",
      "0d23948a762a4d33b86fa459d8685511",
      "745f28a66948420f8d4be5c5e4b995c8"
     ]
    },
    "id": "7_DTvjGw_f-_",
    "outputId": "09a716fb-ad19-460f-92ac-4b882691b91f"
   },
   "outputs": [
    {
     "data": {
      "text/plain": [
       "SentenceTransformer(\n",
       "  (0): Transformer({'max_seq_length': 512, 'do_lower_case': False}) with Transformer model: BertModel \n",
       "  (1): Pooling({'word_embedding_dimension': 384, 'pooling_mode_cls_token': False, 'pooling_mode_mean_tokens': True, 'pooling_mode_max_tokens': False, 'pooling_mode_mean_sqrt_len_tokens': False})\n",
       "  (2): Normalize()\n",
       ")"
      ]
     },
     "execution_count": 35,
     "metadata": {},
     "output_type": "execute_result"
    }
   ],
   "source": [
    "from sentence_transformers import SentenceTransformer\n",
    "\n",
    "# load a sentence transformer model from huggingface\n",
    "model = SentenceTransformer(\n",
    "    'multi-qa-MiniLM-L6-cos-v1'\n",
    ")\n",
    "model"
   ]
  },
  {
   "cell_type": "markdown",
   "id": "3aa38bbf",
   "metadata": {
    "id": "mkdXK8b4_f-_"
   },
   "source": [
    "The model gives us a `384` dimensional dense vector."
   ]
  },
  {
   "cell_type": "markdown",
   "id": "14dacfa1",
   "metadata": {
    "id": "wph64ujXrhrp"
   },
   "source": [
    "## Upsert Documents"
   ]
  },
  {
   "cell_type": "markdown",
   "id": "33056c98",
   "metadata": {
    "id": "oX99CnOroEq0"
   },
   "source": [
    "Now we can go ahead and generate sparse and dense vectors for the full dataset and upsert them along with the metadata to the new hybrid index. We can do that easily as follows:"
   ]
  },
  {
   "cell_type": "code",
   "execution_count": 36,
   "id": "796b3a7a",
   "metadata": {
    "colab": {
     "base_uri": "https://localhost:8080/",
     "height": 118,
     "referenced_widgets": [
      "7a01cfb8ac7c4d2293efca7f8030f407",
      "550a296587d24a3f867f45b09273648c",
      "b8e4d284fc124a6eb75999df4bff1bc5",
      "f396028be4d845349e542efde6fee7f2",
      "1f173bb2a3cf4b3396124f62a0964d85",
      "7f33ae1dce5241b9b4aa19368a00de3a",
      "1e7c98d2ac40410d84514111fe61dcc1",
      "3964c2274b6746f8aa0a79ec8a36c338",
      "6c5e8672edab4fff968943bdec9154fc",
      "d98293d4f95042f69a4db00fcd3b60fe",
      "172a255a494e4eb8a012d49c3259c21c"
     ]
    },
    "id": "vcM5h0T1_f-_",
    "outputId": "d6a55761-a405-4bde-b949-fb4cdb59ab05"
   },
   "outputs": [
    {
     "data": {
      "application/vnd.jupyter.widget-view+json": {
       "model_id": "e7af022531d048018bdaa2c11c5cf92f",
       "version_major": 2,
       "version_minor": 0
      },
      "text/plain": [
       "  0%|          | 0/6 [00:00<?, ?it/s]"
      ]
     },
     "metadata": {},
     "output_type": "display_data"
    },
    {
     "data": {
      "text/plain": [
       "{'namespaces': {'': {'vectorCount': 171}},\n",
       " 'dimension': 384,\n",
       " 'indexFullness': 0,\n",
       " 'totalVectorCount': 171}"
      ]
     },
     "execution_count": 36,
     "metadata": {},
     "output_type": "execute_result"
    }
   ],
   "source": [
    "batch_size = 32\n",
    "\n",
    "for i in tqdm(range(0, len(sentences), batch_size)):\n",
    "    # find end of batch\n",
    "    i_end = min(i+batch_size, len(sentences))\n",
    "    # extract batch\n",
    "    context_batch = sentences[i:i_end]\n",
    "    # create unique IDs\n",
    "    ids = [str(x) for x in range(i, i_end)]\n",
    "    # add context passages as metadata\n",
    "    #meta = [{'context': context} for context in context_batch]\n",
    "    meta = [{'url': url} for url in urls[i:i_end]]\n",
    "    # create dense vectors\n",
    "    dense_embeds = model.encode(context_batch).tolist()\n",
    "    # create sparse vectors\n",
    "    sparse_embeds = generate_sparse_vectors(context_batch)\n",
    "\n",
    "    vectors = []\n",
    "    # loop through the data and create dictionaries for uploading documents to pinecone index\n",
    "    for _id, sparse, dense, metadata in zip(ids, sparse_embeds, dense_embeds, meta):\n",
    "        vectors.append({\n",
    "            'id': _id,\n",
    "            'sparse_values': sparse,\n",
    "            'values': dense,\n",
    "            'metadata': metadata\n",
    "        })\n",
    "\n",
    "    # upload the documents to the new hybrid index\n",
    "    pinecone.upsert(vectors)\n",
    "\n",
    "# show index description after uploading the documents\n",
    "pinecone.describe_index_stats()"
   ]
  },
  {
   "cell_type": "markdown",
   "id": "434456da",
   "metadata": {
    "id": "ir1n8ABfqbV-"
   },
   "source": [
    "## Querying"
   ]
  },
  {
   "cell_type": "markdown",
   "id": "2c7fbcfb",
   "metadata": {
    "id": "vv24_cjVrVKz"
   },
   "source": [
    "Now we can query the index, providing the sparse and dense vectors of a question, along with a weight for keyword relevance (“alpha”). `Alpha=1` will provide a purely semantic-based search result and `alpha=0` will provide a purely keyword-based result equivalent to BM25. The default value is `0.5`."
   ]
  },
  {
   "cell_type": "markdown",
   "id": "c61acb59",
   "metadata": {
    "id": "IedLiNIEqdWi"
   },
   "source": [
    "Let's write a helper function to execute queries and after that run some queries."
   ]
  },
  {
   "cell_type": "code",
   "execution_count": 37,
   "id": "9bf86e47",
   "metadata": {
    "id": "HuIoyi6Trwqc"
   },
   "outputs": [],
   "source": [
    "def hybrid_query(question, top_k, alpha):\n",
    "    # convert the question into a sparse vector\n",
    "    sparse_vec = generate_sparse_vectors([question])\n",
    "    # convert the question into a dense vector\n",
    "    dense_vec = model.encode([question]).tolist()\n",
    "    # set the query parameters to send to pinecone\n",
    "    query = {\n",
    "      \"topK\": top_k,\n",
    "      \"vector\": dense_vec,\n",
    "      \"sparseVector\": sparse_vec[0],\n",
    "      \"alpha\": alpha,\n",
    "      \"includeMetadata\": True\n",
    "    }\n",
    "    # query pinecone with the query parameters\n",
    "    result = pinecone.query(query)\n",
    "    # return search results as json\n",
    "    return result"
   ]
  },
  {
   "cell_type": "code",
   "execution_count": 38,
   "id": "d6ff1c65",
   "metadata": {
    "id": "iszWr04qvONn"
   },
   "outputs": [],
   "source": [
    "question = \"are you in us-east-2\""
   ]
  },
  {
   "cell_type": "markdown",
   "id": "43cb26e8",
   "metadata": {
    "id": "TBjad1-cvRlA"
   },
   "source": [
    "First, we will do a pure semantic search by setting the alpha value as 1."
   ]
  },
  {
   "cell_type": "code",
   "execution_count": 39,
   "id": "fc6c1e7c",
   "metadata": {
    "colab": {
     "base_uri": "https://localhost:8080/"
    },
    "id": "jQkFj1b_qjfx",
    "outputId": "fc876ac3-347c-46c9-b779-f1117f85f4db"
   },
   "outputs": [
    {
     "data": {
      "text/plain": [
       "{'matches': [{'id': '128',\n",
       "   'score': 0.113913476,\n",
       "   'values': [],\n",
       "   'sparseValues': {},\n",
       "   'metadata': {'url': 'https://www.pinecone.io/docs/api/operation/upsert/'}}],\n",
       " 'namespace': ''}"
      ]
     },
     "execution_count": 39,
     "metadata": {},
     "output_type": "execute_result"
    }
   ],
   "source": [
    "hybrid_query(question, top_k=1, alpha=1)"
   ]
  },
  {
   "cell_type": "markdown",
   "id": "65757719",
   "metadata": {
    "id": "88o5Cn-FwF-1"
   },
   "source": [
    "The most relevant result from above is the second document with id 711. Now let's try with an alpha value of 0.3."
   ]
  },
  {
   "cell_type": "code",
   "execution_count": 40,
   "id": "334d8de6",
   "metadata": {
    "colab": {
     "base_uri": "https://localhost:8080/"
    },
    "id": "HjXgq7OQwmfM",
    "outputId": "daee78ed-3b7e-4c52-f95f-522408c05dc9"
   },
   "outputs": [
    {
     "data": {
      "text/plain": [
       "{'matches': [{'id': '44',\n",
       "   'score': 0.302282244,\n",
       "   'values': [],\n",
       "   'sparseValues': {},\n",
       "   'metadata': {'url': 'https://www.pinecone.io/pricing/'}}],\n",
       " 'namespace': ''}"
      ]
     },
     "execution_count": 40,
     "metadata": {},
     "output_type": "execute_result"
    }
   ],
   "source": [
    "hybrid_query(question, top_k=1, alpha=0.3)"
   ]
  },
  {
   "cell_type": "markdown",
   "id": "f90fecbc",
   "metadata": {
    "id": "eqZ93O95w2oe"
   },
   "source": [
    "The most relevant document is now ranked the highest."
   ]
  },
  {
   "cell_type": "markdown",
   "id": "4ba4e052",
   "metadata": {
    "id": "1YY3hiL3xNQ5"
   },
   "source": [
    "# Delete the Index"
   ]
  },
  {
   "cell_type": "code",
   "execution_count": 41,
   "id": "71a0db26",
   "metadata": {
    "id": "DnGtG5iaUArB"
   },
   "outputs": [],
   "source": [
    "#pinecone.delete_index(\"hybrid-test\")"
   ]
  },
  {
   "cell_type": "code",
   "execution_count": 42,
   "id": "7ec92121",
   "metadata": {},
   "outputs": [
    {
     "name": "stdout",
     "output_type": "stream",
     "text": [
      "https://www.pinecone.io/pricing/\n"
     ]
    }
   ],
   "source": [
    "url_ids = []\n",
    "for doc in df.response.docs:\n",
    "    #content =  str(doc.get('title')) + ' ' + str(doc.get('content'))\n",
    "    content =  url_ids.append(str(doc.get('id')))\n",
    "\n",
    "print(url_ids[44])"
   ]
  },
  {
   "cell_type": "code",
   "execution_count": null,
   "id": "041766cd",
   "metadata": {},
   "outputs": [],
   "source": []
  }
 ],
 "metadata": {
  "kernelspec": {
   "display_name": "pinecone",
   "language": "python",
   "name": "pinecone"
  },
  "language_info": {
   "codemirror_mode": {
    "name": "ipython",
    "version": 3
   },
   "file_extension": ".py",
   "mimetype": "text/x-python",
   "name": "python",
   "nbconvert_exporter": "python",
   "pygments_lexer": "ipython3",
   "version": "3.10.8"
  }
 },
 "nbformat": 4,
 "nbformat_minor": 5
}
