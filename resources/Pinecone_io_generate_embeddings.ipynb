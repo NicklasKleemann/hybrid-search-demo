{
 "cells": [
  {
   "cell_type": "markdown",
   "id": "d72a9674",
   "metadata": {
    "id": "Ug-NsCoZViN8"
   },
   "source": [
    "## Install Dependencies"
   ]
  },
  {
   "cell_type": "code",
   "execution_count": 35,
   "id": "8bb48158",
   "metadata": {},
   "outputs": [],
   "source": [
    "#!pip install pandas torch datasets transformers sentence-transformers requests tqdm nltk"
   ]
  },
  {
   "cell_type": "code",
   "execution_count": 36,
   "id": "3fd3adca",
   "metadata": {},
   "outputs": [],
   "source": [
    "import pandas as pd\n",
    "from sentence_transformers import SentenceTransformer\n",
    "from collections import Counter\n",
    "from tqdm.auto import tqdm\n",
    "import mmh3\n",
    "import requests\n",
    "from nltk.tokenize import word_tokenize\n",
    "from nltk.stem import SnowballStemmer"
   ]
  },
  {
   "cell_type": "markdown",
   "id": "1c470c16",
   "metadata": {
    "id": "Q68EZtCmooq4"
   },
   "source": [
    "## Connect to Pinecone"
   ]
  },
  {
   "cell_type": "markdown",
   "id": "6c4d5bf0",
   "metadata": {
    "id": "Oweyy_KjV_Y3"
   },
   "source": [
    "The hybrid vector index is currently not available in Pinecone python client. So, we will use the Pinecone REST API to communicate with the new index. The ```HybridPinecone``` class below gives you a similar interface to the python-client to communicate with the new index."
   ]
  },
  {
   "cell_type": "code",
   "execution_count": 37,
   "id": "ed602503",
   "metadata": {},
   "outputs": [],
   "source": [
    "class HybridPinecone:\n",
    "    # initializes the HybridPinecone object\n",
    "    def __init__(self, api_key, environment):\n",
    "        # make environment, headers and project_id available across all the function within the class\n",
    "        self.environment = environment\n",
    "        self.headers = {'Api-Key': api_key}\n",
    "        # get project_id\n",
    "        res = requests.get(\n",
    "            f\"https://controller.{self.environment}.pinecone.io/actions/whoami\",\n",
    "            headers=self.headers\n",
    "        )\n",
    "        self.project_id = res.json()['project_name']\n",
    "        self.host = None\n",
    "\n",
    "    # creates an index in pinecone vector database\n",
    "    def create_index(self, index_name, dimension, metric, pod_type):\n",
    "        # index specification\n",
    "        params = {\n",
    "            'name': index_name,\n",
    "            'dimension': dimension,\n",
    "            'metric': metric,\n",
    "            'pod_type': pod_type\n",
    "        }\n",
    "        # sent a post request with the headers and parameters to pinecone database\n",
    "        res = requests.post(\n",
    "            f\"https://controller.{self.environment}.pinecone.io/databases\",\n",
    "            headers=self.headers,\n",
    "            json=params\n",
    "        )\n",
    "        # return the creation status\n",
    "        return res\n",
    "    \n",
    "    # get the project_id for the index and update self.host variable\n",
    "    def connect_index(self, index_name):\n",
    "        # set the self.host variable\n",
    "        self.host = f\"{index_name}-{self.project_id}.svc.{self.environment}.pinecone.io\"\n",
    "        res = self.describe_index_stats()\n",
    "        # return index related information as json\n",
    "        return res\n",
    "    \n",
    "    def describe_index(self, index_name):\n",
    "        # send a get request to pinecone database to get index description\n",
    "        res = requests.get(\n",
    "            f\"https://controller.{self.environment}.pinecone.io/databases/{index_name}\",\n",
    "            headers=self.headers\n",
    "        )\n",
    "        return res.json()\n",
    "\n",
    "    # returns description of the index\n",
    "    def describe_index_stats(self):\n",
    "        # send a get request to pinecone database to get index description\n",
    "        res = requests.get(\n",
    "            f\"https://{self.host}/describe_index_stats\",\n",
    "            headers=self.headers\n",
    "        )\n",
    "        # return the index description as json\n",
    "        return res.json()\n",
    "\n",
    "    # uploads the documents to pinecone database\n",
    "    def upsert(self, vectors):\n",
    "        # send a post request with vectors to pinecone database\n",
    "        res = requests.post(\n",
    "            f\"https://{self.host}/hybrid/vectors/upsert\",\n",
    "            headers=self.headers,\n",
    "            json={'vectors': vectors} #TODO this is probably the issue\n",
    "        )\n",
    "        # return the http response status\n",
    "        return res\n",
    "\n",
    "    # searches pinecone database with the query\n",
    "    def query(self, query):\n",
    "        # sends a post request to hybrib vector index with the query dict\n",
    "        res = requests.post(\n",
    "            f\"https://{self.host}/hybrid/query\",\n",
    "            headers=self.headers,\n",
    "            json=query\n",
    "        )\n",
    "        # returns the result as json\n",
    "        return res.json()\n",
    "\n",
    "    # deletes an index in pinecone database\n",
    "    def delete_index(self, index_name):\n",
    "        # sends a delete request\n",
    "        res = requests.delete(\n",
    "            f\"https://controller.{self.environment}.pinecone.io/databases/{index_name}\",\n",
    "            headers=self.headers\n",
    "        )\n",
    "        # returns the http response status\n",
    "        return res"
   ]
  },
  {
   "cell_type": "markdown",
   "id": "1c470c16",
   "metadata": {
    "id": "Q68EZtCmooq4"
   },
   "source": [
    "## Create index"
   ]
  },
  {
   "cell_type": "code",
   "execution_count": 38,
   "id": "eccb6f72",
   "metadata": {
    "id": "n83cvMOXuXcD"
   },
   "outputs": [],
   "source": [
    "# initialize an instance of HybridPinecone class\n",
    "pinecone = HybridPinecone(\n",
    "    api_key = \"1f136ea0-a50c-4af1-a9ad-93de37970fab\",  # app.pinecone.io\n",
    "    environment = \"us-west1-gcp\"\n",
    ")\n",
    "\n",
    "# choose a name for your index\n",
    "index_name = \"hybrid-search-demo\""
   ]
  },
  {
   "cell_type": "code",
   "execution_count": 45,
   "id": "73c508d0",
   "metadata": {},
   "outputs": [
    {
     "data": {
      "text/plain": [
       "<Response [201]>"
      ]
     },
     "execution_count": 45,
     "metadata": {},
     "output_type": "execute_result"
    }
   ],
   "source": [
    "# create the index\n",
    "pinecone.create_index(\n",
    "    index_name = index_name,\n",
    "    dimension = 384,\n",
    "    metric = \"dotproduct\",\n",
    "    pod_type = \"s1h\"\n",
    ")"
   ]
  },
  {
   "cell_type": "markdown",
   "id": "e3aa165b",
   "metadata": {
    "id": "PWdW7PGnsvcU"
   },
   "source": [
    "Now we have created the hybrid vector index using the `\"s1h\"` hybrid `pod_type`. To connect to the index we must `wait until it is ready`, we can check it's status like so:"
   ]
  },
  {
   "cell_type": "code",
   "execution_count": 50,
   "id": "c29be891",
   "metadata": {
    "colab": {
     "base_uri": "https://localhost:8080/"
    },
    "id": "Bi5Qik1vsvcU",
    "outputId": "7d2caeef-883b-4c83-da42-328f682c54da"
   },
   "outputs": [
    {
     "data": {
      "text/plain": [
       "{'database': {'name': 'hybrid-search-demo',\n",
       "  'index_type': 'approximated',\n",
       "  'metric': 'dotproduct',\n",
       "  'dimension': 384,\n",
       "  'replicas': 1,\n",
       "  'shards': 1,\n",
       "  'pods': 1,\n",
       "  'pod_type': 's1h',\n",
       "  'index_config': {'approximated': {'k_bits': 512}}},\n",
       " 'status': {'waiting': [],\n",
       "  'crashed': [],\n",
       "  'host': 'hybrid-search-demo-94a860f.svc.us-west1-gcp.pinecone.io',\n",
       "  'port': 433,\n",
       "  'state': 'Ready',\n",
       "  'ready': True}}"
      ]
     },
     "execution_count": 50,
     "metadata": {},
     "output_type": "execute_result"
    }
   ],
   "source": [
    "pinecone.describe_index(index_name)"
   ]
  },
  {
   "cell_type": "markdown",
   "id": "c59ecce3",
   "metadata": {
    "id": "OiiXWh2ghdvs"
   },
   "source": [
    "If the `state` is `'Ready'` we can continue and connect to the index like so:"
   ]
  },
  {
   "cell_type": "code",
   "execution_count": 51,
   "id": "c25e1254",
   "metadata": {
    "colab": {
     "base_uri": "https://localhost:8080/"
    },
    "id": "-gZK5K_-wIMn",
    "outputId": "7f4e3426-0918-4cb1-cf31-6947638a5bf2"
   },
   "outputs": [
    {
     "data": {
      "text/plain": [
       "{'namespaces': {}, 'dimension': 384, 'indexFullness': 0, 'totalVectorCount': 0}"
      ]
     },
     "execution_count": 51,
     "metadata": {},
     "output_type": "execute_result"
    }
   ],
   "source": [
    "pinecone.connect_index(index_name)"
   ]
  },
  {
   "cell_type": "markdown",
   "id": "8470b6e5",
   "metadata": {
    "id": "jfQ8_Uqf_f-8"
   },
   "source": [
    "## Load Dataset\n",
    "\n",
    "We will use a json file containing a web crawl of pinecone.io"
   ]
  },
  {
   "cell_type": "code",
   "execution_count": 52,
   "id": "47436f05",
   "metadata": {},
   "outputs": [],
   "source": [
    "df = pd.read_json(\"Pinecone_io_Webcrawl.json\")\n",
    "\n",
    "ids = [] # id\n",
    "titles = [] # title\n",
    "contents = [] # content\n",
    "urls = [] # url\n",
    "boosts = [] # boost\n",
    "blob_texts = [] # derived from titles, bodies, and urls\n",
    "\n",
    "# Process fields to be used as metadata later\n",
    "for doc in df.response.docs:\n",
    "\n",
    "    title = str(doc.get('title'))\n",
    "    titles.append(title)\n",
    "\n",
    "    content = str(doc.get('content'))\n",
    "    contents.append(content[:500])\n",
    "\n",
    "    url = str(doc.get('url'))\n",
    "    urls.append(url)\n",
    "\n",
    "    boost = str(doc.get('boost'))\n",
    "    boosts.append(boost)\n",
    "\n",
    "    # Blob text will be used to generate the sparse and dense vectors\n",
    "    blob_text =  str(doc.get('title')) + ' ' + str(doc.get('content')) + ' ' + str(doc.get('url'))\n",
    "    blob_texts.append(blob_text)\n"
   ]
  },
  {
   "cell_type": "markdown",
   "id": "bc9090a1",
   "metadata": {
    "id": "PyuqZHg_j22O"
   },
   "source": [
    "## Sparse and Dense Vector Creation"
   ]
  },
  {
   "cell_type": "code",
   "execution_count": 66,
   "id": "7c4b5355",
   "metadata": {
    "colab": {
     "base_uri": "https://localhost:8080/",
     "height": 145,
     "referenced_widgets": [
      "d53abbf94f4940f6a5f8fee19287fcda",
      "4002881c1c7f4f15a16a26a49dcc8215",
      "f22e1a1391244f0c9ca035a9afa6a759",
      "37b48fe5f5a4434b989ade8ae01bfae6",
      "820dc52d19004802812f042529f1ab63",
      "d2e5c122610f4c26a2459208dc3a7e27",
      "91e1e2a2a6604412afe93a54d9464520",
      "6d37cb5c144846cf96f3ec8f2d317ec2",
      "2cee7bd96f984af9ae830d33569c2b75",
      "36da60255be6456d82e05c55408549c0",
      "9d94f23fc59945a79896415ca5dc7200",
      "9bf28f6509f84a7ea0395e25c9464b1d",
      "572ae4cb995e4eb889c97402436c4a14",
      "ff5f803b97234fc79f34809b616d4ba2",
      "a4f4c5dd1175485e91f4fa5a9e536d2c",
      "db32c27ce80d4de39e7a897613ab92e6",
      "b3eeda2cbddc4cd1915adee69e3db77f",
      "6f5c9b4180054fcebdf74a5c9f4e1328",
      "65f328726dc6492fb29df53da6ab02a6",
      "95305e6dcb544ceba78af0ee55688852",
      "4720331260eb4905b4bd45bf9aff4be4",
      "7de95b090f9f4178985feee7f35edb28",
      "260a2c3a78b3441e820522f4a4c04da8",
      "c2249564ce77497da3cfb1d9f42d7dcf",
      "60bc87fc20304983a3e574f8a36eaaed",
      "b094f99816004968b2273029a0d19cb7",
      "5c635821a85042d183eca9d842ef08d9",
      "55e240e2cdad4ad6a750d92b89ae2149",
      "48bd9d63184c4e228ac42c7337f37de2",
      "a375ae1e16b64390950ef76791486562",
      "e0c1273ac30849839e1a8fd4f6cdbf39",
      "908646d92b3e4e87ade563902f44496c",
      "3cec1dbc873b4483a231c7fbe50d60f0",
      "d4863fddae334c9f94030bacc37750d4",
      "06f81cf42e194e88b6f34ee490a89aff",
      "bf9164e0b39440359336c3fe8927be74",
      "5e30ff2ce7c84738b8021fbb48321870",
      "d5d09b5d397a4c238b29a7520e3ef26f",
      "4b87dcdab5aa4f248285975e530c303d",
      "b62253243f0246cfb3a82e4999bd7801",
      "ed1870107bb4437389775e83f29704a3",
      "5f8b8766c5fd41a7bbdfb8915dcb20cd",
      "ce1198d5237f4887be6066dd5f4ad73e",
      "ca931bc257a54695a8494968cfa3c775"
     ]
    },
    "id": "Zka805CX_f-9",
    "outputId": "7dd3dd50-5f97-4056-b77d-b5bf9c26377e"
   },
   "outputs": [],
   "source": [
    "# load a sentence transformer model from huggingface\n",
    "model = SentenceTransformer('sentence-transformers/all-MiniLM-L6-v2')\n",
    "\n",
    "# create a tokenizer\n",
    "class Tokenizer:\n",
    "  def __init__(self):\n",
    "    self.stemmer = SnowballStemmer('english')\n",
    "\n",
    "  def encode(self, text):\n",
    "    words = [self.stemmer.stem(word) for word in word_tokenize(text)]\n",
    "    ids = [mmh3.hash(word, signed=False) for word in words]\n",
    "    return dict(Counter(ids))\n",
    "\n",
    "tokenizer = Tokenizer()"
   ]
  },
  {
   "cell_type": "code",
   "execution_count": 67,
   "id": "96ff087a",
   "metadata": {},
   "outputs": [
    {
     "name": "stdout",
     "output_type": "stream",
     "text": [
      "{3753613260: 7, 711529291: 8, 2751991620: 9, 3888873998: 3, 3584054563: 5, 2650797237: 6, 2580097488: 1, 3357039338: 2, 2852256900: 4, 649407353: 4, 4037162160: 3, 1928848833: 2, 1280338847: 3, 619178129: 3, 4210889658: 3, 1811268606: 2, 131900689: 2, 1622730881: 1, 1720810685: 1, 1363043438: 2, 958659146: 2, 2223247000: 2, 2816322140: 1, 1101351995: 1, 1793137844: 1, 152217691: 8, 3162218338: 3, 1955147705: 2, 553238108: 4, 4222409465: 1, 1647276219: 1, 3286166600: 3, 4243668012: 3, 3997133275: 1, 117848935: 4, 569047032: 1, 1491351846: 1, 2941713443: 11, 286431791: 3, 3981855590: 5, 3688822001: 1, 3658264083: 1, 1009084850: 3, 2236453805: 2, 2779594451: 4, 1181836714: 1, 2319041398: 2, 2641553256: 2, 814527388: 7, 3396792551: 1, 806976768: 2, 2522961926: 2, 2733467792: 1, 2367602973: 1, 1682104160: 1, 1026658409: 1, 1396724889: 1, 723937430: 5, 1717991430: 1, 1447422055: 2, 2399171853: 2, 3194111925: 2, 3449948193: 2, 270731446: 2, 3397902157: 2, 3176141921: 2, 21141582: 2, 549248996: 2, 491396510: 2, 1063320047: 2, 1082468256: 2, 2851137560: 1, 3685696496: 2, 408571802: 1, 189262593: 1, 3737300892: 1, 1947820556: 1, 1587106584: 1, 2352464484: 1, 2678678093: 1, 523529899: 1, 2748506879: 3, 1786135294: 1, 3908436500: 2, 1837728678: 3, 4091827966: 1, 1285987188: 2, 3647400625: 1, 2755325844: 1, 1338150097: 1, 3476647774: 3, 3120014309: 3, 3123842826: 1, 4261826499: 1, 604927341: 1, 1454980414: 1, 1919294708: 1, 1195004061: 2, 3289512026: 1, 753371676: 2, 3255297991: 1, 2543655733: 3, 1153501715: 1, 3417188605: 6, 3234527682: 1, 838568274: 2, 767227209: 1, 2087367745: 1, 2211275227: 1, 3725872281: 1, 2095749492: 3, 3263800907: 1, 1620871840: 1, 640477688: 1, 1299665196: 2, 1853176582: 1, 2892062428: 1, 3117484998: 1, 1197719001: 2, 2513480436: 1, 3230945512: 1, 4049471024: 1, 3540170031: 1, 112174620: 1, 2021799277: 1, 3676260520: 1, 116635142: 1, 997012898: 2, 3037525612: 1, 4071218396: 2, 693182721: 1, 111228364: 1, 3800896210: 1, 2025490428: 1}\n",
      "[[-0.09982963651418686, -0.14911581575870514, -0.035754911601543427, 0.07237429171800613, 0.03962981328368187, 0.02198142185807228, 0.022934433072805405, -0.004079580772668123, -0.02914251573383808, -0.04671647772192955, -0.021204248070716858, 0.0040968479588627815, -0.028398331254720688, 0.09268402308225632, -0.04837203025817871, 0.032261643558740616, 0.03419535979628563, 0.00781998597085476, 0.015453963540494442, -0.004359521437436342, -0.027580484747886658, 0.014740804210305214, -0.019847886636853218, -0.027640892192721367, -0.025143640115857124, -0.08467361330986023, -0.060854412615299225, -0.012839552015066147, -0.06170223653316498, -0.0261627696454525, 0.0783429816365242, 0.08026481419801712, 0.04420275613665581, 0.10377536714076996, -0.027045393362641335, 0.03502701222896576, -0.026623234152793884, -0.05477543920278549, -0.01938864216208458, 0.028995666652917862, -0.05537663400173187, 0.020213916897773743, -0.0016103334492072463, 0.015297132544219494, -0.020102249458432198, -0.02996702678501606, -0.016646726056933403, -0.004233186133205891, 0.11766194552183151, -0.018860388547182083, -0.09540224075317383, -0.14839796721935272, -0.05481790006160736, -0.02993728220462799, -0.02331962250173092, 0.07592955976724625, 0.03884810954332352, -0.11388702690601349, 0.010968216694891453, -0.11445019394159317, 0.020092271268367767, -0.0017720904434099793, -0.044879041612148285, 0.005701087415218353, -0.010383392684161663, 0.0445677675306797, -0.08927703648805618, 0.06788238883018494, 0.04666987061500549, -0.14136618375778198, -0.03944244235754013, 0.021126488223671913, -0.14473366737365723, 0.07030248641967773, 0.016072945669293404, 0.06918111443519592, 0.022384056821465492, 0.018183838576078415, 0.030120497569441795, -0.09389497339725494, -0.04371510073542595, -0.006317599676549435, -0.06508892774581909, 0.0544360876083374, -0.015407143160700798, 0.01846037618815899, 0.061807628720998764, 0.05984295904636383, 0.09149527549743652, -0.04179878532886505, 0.07137519121170044, 0.02372586727142334, -0.07096303254365921, -0.04684135690331459, -0.02281712368130684, -0.011427301913499832, 0.056029945611953735, 0.011915383860468864, -0.08216133713722229, -0.02065402641892433, -0.05112675949931145, -0.04380683973431587, 0.06246048957109451, -0.10456129163503647, -0.062015973031520844, 0.03116782195866108, -0.0091099189594388, 0.07233729213476181, 0.09381203353404999, -0.03017488121986389, -0.0945773720741272, 0.04801800847053528, -0.09343107044696808, 0.05063576251268387, 0.003342601703479886, 0.018166888505220413, 0.018296988680958748, 0.017592614516615868, 0.03988068178296089, 0.051176272332668304, -0.003622177056968212, 0.05158523842692375, -0.029466969892382622, -0.04320567473769188, -0.09369878470897675, -0.0398484505712986, -0.01628570444881916, 1.13548140474106e-32, 0.029965117573738098, 0.14476177096366882, -0.0020017800852656364, 0.07922384887933731, 0.04434817284345627, -0.0003555109433364123, -0.041933171451091766, -0.01042855717241764, -0.02248166687786579, 0.0767534002661705, -0.11246085911989212, 0.07741109281778336, -0.017954789102077484, 0.019029883667826653, -0.015071753412485123, -0.0035839269403368235, -0.020516958087682724, 0.02031760662794113, -0.03039557673037052, -0.023123394697904587, -0.035043902695178986, 0.03914806991815567, -0.06468258798122406, 0.022015109658241272, 0.017025429755449295, -0.02112702652812004, 0.008685629814863205, -0.0057828244753181934, 0.10962444543838501, -0.010906406678259373, 0.022183513268828392, 0.05491669103503227, -0.04744363948702812, 0.046361539512872696, 0.10153616219758987, 0.023080946877598763, -0.021016869693994522, -0.10586890578269958, 3.58784272975754e-05, -0.029920460656285286, 0.030639609321951866, -0.011185343377292156, 0.016567211598157883, 0.012009481899440289, 0.016112230718135834, -0.07429242879152298, 0.11807370185852051, 0.0523168109357357, 0.06826011091470718, 0.062062133103609085, -0.027597546577453613, 0.07763984799385071, -0.07807514816522598, 0.06482827663421631, -0.04275031387805939, -0.05074088275432587, 0.029557950794696808, 0.03956978768110275, 0.04229883849620819, -0.023392969742417336, 0.032154571264982224, -0.034301966428756714, 0.009895904920995235, -0.04928610101342201, -0.07677176594734192, -0.07752128690481186, -0.022746209055185318, -0.02455124631524086, 0.04742344096302986, -0.006601996719837189, 0.031480103731155396, -0.03086809627711773, 0.05087592080235481, -0.006748388055711985, 0.023310955613851547, -0.010290437377989292, 0.00974737573415041, 0.03187050297856331, -0.009468530304729939, 0.01982301101088524, -0.10362260043621063, 0.0470014326274395, -0.015644077211618423, -0.0014155483804643154, 0.0819459781050682, 0.011157866567373276, 0.10531923919916153, -0.03811800479888916, -0.05205940455198288, 0.016352485865354538, 0.04522047936916351, 0.002220165217295289, -0.015417017042636871, 0.043843891471624374, 0.029780473560094833, -1.083319798012481e-32, -0.08715213090181351, -0.1350274384021759, 0.02374654822051525, -0.028737951070070267, 0.01170559972524643, -0.050597723573446274, 0.014192147180438042, -0.050984226167201996, 0.06029358506202698, -0.05840196833014488, 0.02656753733754158, -0.004670917987823486, 0.009354878216981888, -0.0413140207529068, -0.0036005156580358744, 0.016811540350317955, -0.02686549350619316, 0.03385138139128685, -0.048286035656929016, 0.007842136546969414, 0.03927033767104149, 0.037861090153455734, -0.136885404586792, 0.02112712152302265, -0.012133822776377201, 0.06646270304918289, 0.053456682711839676, 0.042423468083143234, 0.004060004837810993, 0.012448085471987724, 0.07032701373100281, 0.018188966438174248, -0.11880161613225937, 0.020974747836589813, -0.06097704917192459, -0.020194722339510918, 0.07048143446445465, -0.05364310368895531, -0.017877794802188873, 0.010054378770291805, 0.04242159426212311, 0.019617900252342224, 0.009452339261770248, 0.035033103078603745, -0.010556277818977833, -0.10093725472688675, -0.0010064606321975589, -0.07796752452850342, 0.031145373359322548, 0.07608602195978165, 0.03551015257835388, -0.008493049070239067, -0.019151566550135612, -0.009677012450993061, -0.029224226251244545, -0.026313981041312218, 0.03876689821481705, 0.07210022956132889, 0.007722900249063969, -0.03443501517176628, 0.017474865540862083, 0.04991203919053078, 0.013271351344883442, 0.06852339953184128, 0.0687577873468399, -0.045609477907419205, 0.019664427265524864, 0.04045218601822853, 0.0014752147253602743, -0.05199850723147392, -0.05490564554929733, 0.013520152308046818, 0.024730782955884933, -0.052791494876146317, -0.04191996157169342, -0.03440433740615845, 0.09417682141065598, -0.035250455141067505, -0.04279720410704613, 0.005474634934216738, 0.008157794363796711, 0.055431537330150604, 0.004552581813186407, 0.05385490879416466, 0.0026496564969420433, 0.019858261570334435, 0.008516363799571991, 0.10577540099620819, -0.028983652591705322, -0.06892058998346329, -0.027077384293079376, -0.0336124412715435, 0.026839885860681534, 0.04370836913585663, -0.0012179695768281817, -6.478955327793301e-08, -0.06100727617740631, 0.047522757202386856, -0.018162349238991737, 0.02942475490272045, 0.026287605985999107, -0.036417484283447266, -0.0025060069747269154, 0.04816575348377228, -0.12191072851419449, 0.005306266713887453, 0.025479773059487343, 0.004710062872618437, -0.04361003637313843, 0.022361936047673225, 0.06490974873304367, -0.01536764670163393, -0.03175918757915497, -0.01164921373128891, -0.009392748586833477, 0.0025044865906238556, 0.04267610237002373, -0.0028246124275028706, -0.010873375460505486, 0.11295251548290253, -0.007494163699448109, 0.017217518761754036, 0.029492098838090897, 0.1086650937795639, 0.0356561504304409, -0.02895498275756836, 0.045589808374643326, 0.0016472203424200416, 0.005455091129988432, -0.004951745271682739, 0.01964312605559826, -0.0039607202634215355, -0.026541709899902344, 0.016391273587942123, -0.02518199384212494, 0.03824824467301369, 0.04854797571897507, 0.004159473814070225, -0.009356116876006126, 0.009108737111091614, 0.02464178390800953, -0.008061766624450684, -0.026535993441939354, -0.07706883549690247, 0.0644330382347107, 0.024744562804698944, -0.019357550889253616, -0.055361270904541016, 0.00044599088141694665, 0.04189586266875267, -0.009782623499631882, -0.002829904668033123, -0.033891644328832626, -0.005343953613191843, 0.06175174191594124, -0.016403820365667343, -0.021463751792907715, -0.16159740090370178, -0.06416971236467361, 0.05603540316224098]]\n"
     ]
    }
   ],
   "source": [
    "sparse_vectors = []\n",
    "dense_vectors = []\n",
    "\n",
    "for blob in blob_texts:\n",
    "    sparse_vectors.append(tokenizer.encode(str(blob)))\n",
    "    dense_vectors.append(model.encode([blob], normalize_embeddings=True).tolist())\n",
    "\n",
    "print(sparse_vectors[0])\n",
    "print(dense_vectors[0])"
   ]
  },
  {
   "cell_type": "code",
   "execution_count": 55,
   "id": "84ef06bd",
   "metadata": {},
   "outputs": [
    {
     "name": "stdout",
     "output_type": "stream",
     "text": [
      "{'url': 'https://www.pinecone.io/contact/', 'title': 'Contact | Pinecone', 'content': 'Contact | Pinecone\\nPricing\\nDocs\\nLearn\\nLearning Center\\nCommunity\\nCompany\\nAbout\\nCareers\\nPartners\\nTrust & Security\\nContact\\nLog In\\nSign Up Free\\nPricing\\nDocs\\nLearn\\nCommunity\\nCompany\\nCareers\\nPartners\\nTrust & Security\\nContact\\nLog In\\nCreate Account\\nToggle menu\\nTalk to the Vector Search Experts\\nSend us your questions about Pinecone or details about your vector search needs. We’ll schedule a time to learn and share more with you.\\nWant to try Pinecone? Start here.\\nPress and general inquiries: info@pinecone', 'boost': '2.307947'}\n"
     ]
    }
   ],
   "source": [
    "# Build metadata\n",
    "meta = []\n",
    "\n",
    "for url, title, content, boost in zip(urls,titles,contents,boosts):\n",
    "    metavalue = {'url':url,'title':title,'content':content,'boost':boost}\n",
    "    meta.append(metavalue)\n",
    "\n",
    "print(meta[0])"
   ]
  },
  {
   "cell_type": "markdown",
   "id": "14dacfa1",
   "metadata": {
    "id": "wph64ujXrhrp"
   },
   "source": [
    "## Upsert Documents"
   ]
  },
  {
   "cell_type": "markdown",
   "id": "33056c98",
   "metadata": {
    "id": "oX99CnOroEq0"
   },
   "source": [
    "Now we can go ahead and generate sparse and dense vectors for the full dataset and upsert them along with the metadata to the new hybrid index. We can do that easily as follows:"
   ]
  },
  {
   "cell_type": "code",
   "execution_count": 56,
   "id": "cd73c705",
   "metadata": {},
   "outputs": [
    {
     "data": {
      "application/vnd.jupyter.widget-view+json": {
       "model_id": "1ad00a91c5d342a9af5e4654bc10678e",
       "version_major": 2,
       "version_minor": 0
      },
      "text/plain": [
       "  0%|          | 0/171 [00:00<?, ?it/s]"
      ]
     },
     "metadata": {},
     "output_type": "display_data"
    }
   ],
   "source": [
    "batch_size = 1\n",
    "f = open(\"output.txt\", \"a\")\n",
    "\n",
    "for i in tqdm(range(0, len(blob_texts), batch_size)):\n",
    "    i_end = min(i+batch_size, len(blob_texts))\n",
    "    ids = [str(x) for x in range(i, i_end)]\n",
    "\n",
    "    vectors = []\n",
    "    \n",
    "    for id, sparse, dense, metadata in zip(ids, sparse_vectors[i:i_end], dense_vectors[i:i_end], meta[i:i_end]):\n",
    "        vectors.append({\n",
    "            'id': id,\n",
    "            'sparse_values': sparse,\n",
    "            'values': dense,\n",
    "            'metadata': metadata\n",
    "        })\n",
    "\n",
    "    pinecone.upsert(vectors)\n",
    "    f.write(str(vectors))\n",
    "\n",
    "\n",
    "f.close()\n",
    "# show index description after uploading the documents\n",
    "#pinecone.describe_index_stats()\n"
   ]
  },
  {
   "cell_type": "markdown",
   "id": "434456da",
   "metadata": {
    "id": "ir1n8ABfqbV-"
   },
   "source": [
    "## Querying"
   ]
  },
  {
   "cell_type": "markdown",
   "id": "2c7fbcfb",
   "metadata": {
    "id": "vv24_cjVrVKz"
   },
   "source": [
    "Now we can query the index, providing the sparse and dense vectors of a question, along with a weight for keyword relevance (“alpha”). `Alpha=1` will provide a purely semantic-based search result and `alpha=0` will provide a purely keyword-based result equivalent to BM25. The default value is `0.5`."
   ]
  },
  {
   "cell_type": "markdown",
   "id": "c61acb59",
   "metadata": {
    "id": "IedLiNIEqdWi"
   },
   "source": [
    "Let's write a helper function to execute queries and after that run some queries."
   ]
  },
  {
   "cell_type": "code",
   "execution_count": 57,
   "id": "9bf86e47",
   "metadata": {
    "id": "HuIoyi6Trwqc"
   },
   "outputs": [],
   "source": [
    "def hybrid_query(question, top_k, alpha):\n",
    "    # convert the question into a sparse vector\n",
    "    sparse_vec = generate_sparse_vectors([question])\n",
    "    # convert the question into a dense vector\n",
    "    dense_vec = model.encode([question]).tolist()\n",
    "    # set the query parameters to send to pinecone\n",
    "    query = {\n",
    "      \"topK\": top_k,\n",
    "      \"vector\": dense_vec,\n",
    "      \"sparseVector\": sparse_vec[0],\n",
    "      \"alpha\": alpha,\n",
    "      \"includeMetadata\": True\n",
    "    }\n",
    "    # query pinecone with the query parameters\n",
    "    result = pinecone.query(query)\n",
    "    # return search results as json\n",
    "    return result"
   ]
  },
  {
   "cell_type": "code",
   "execution_count": 58,
   "id": "d6ff1c65",
   "metadata": {
    "id": "iszWr04qvONn"
   },
   "outputs": [],
   "source": [
    "question = \"are you in us-east-2\""
   ]
  },
  {
   "cell_type": "markdown",
   "id": "43cb26e8",
   "metadata": {
    "id": "TBjad1-cvRlA"
   },
   "source": [
    "First, we will do a pure semantic search by setting the alpha value as 1."
   ]
  },
  {
   "cell_type": "code",
   "execution_count": 59,
   "id": "fc6c1e7c",
   "metadata": {
    "colab": {
     "base_uri": "https://localhost:8080/"
    },
    "id": "jQkFj1b_qjfx",
    "outputId": "fc876ac3-347c-46c9-b779-f1117f85f4db"
   },
   "outputs": [
    {
     "ename": "NameError",
     "evalue": "name 'generate_sparse_vectors' is not defined",
     "output_type": "error",
     "traceback": [
      "\u001b[0;31m---------------------------------------------------------------------------\u001b[0m",
      "\u001b[0;31mNameError\u001b[0m                                 Traceback (most recent call last)",
      "Cell \u001b[0;32mIn [59], line 1\u001b[0m\n\u001b[0;32m----> 1\u001b[0m hybrid_query(question, top_k\u001b[39m=\u001b[39m\u001b[39m1\u001b[39m, alpha\u001b[39m=\u001b[39m\u001b[39m1\u001b[39m)\n",
      "Cell \u001b[0;32mIn [57], line 3\u001b[0m, in \u001b[0;36mhybrid_query\u001b[0;34m(question, top_k, alpha)\u001b[0m\n\u001b[1;32m      1\u001b[0m \u001b[39mdef\u001b[39;00m \u001b[39mhybrid_query\u001b[39m(question, top_k, alpha):\n\u001b[1;32m      2\u001b[0m     \u001b[39m# convert the question into a sparse vector\u001b[39;00m\n\u001b[0;32m----> 3\u001b[0m     sparse_vec \u001b[39m=\u001b[39m generate_sparse_vectors([question])\n\u001b[1;32m      4\u001b[0m     \u001b[39m# convert the question into a dense vector\u001b[39;00m\n\u001b[1;32m      5\u001b[0m     dense_vec \u001b[39m=\u001b[39m model\u001b[39m.\u001b[39mencode([question])\u001b[39m.\u001b[39mtolist()\n",
      "\u001b[0;31mNameError\u001b[0m: name 'generate_sparse_vectors' is not defined"
     ]
    }
   ],
   "source": [
    "hybrid_query(question, top_k=1, alpha=1)"
   ]
  },
  {
   "cell_type": "markdown",
   "id": "65757719",
   "metadata": {
    "id": "88o5Cn-FwF-1"
   },
   "source": [
    "The most relevant result from above is the second document with id 711. Now let's try with an alpha value of 0.3."
   ]
  },
  {
   "cell_type": "code",
   "execution_count": null,
   "id": "334d8de6",
   "metadata": {
    "colab": {
     "base_uri": "https://localhost:8080/"
    },
    "id": "HjXgq7OQwmfM",
    "outputId": "daee78ed-3b7e-4c52-f95f-522408c05dc9"
   },
   "outputs": [],
   "source": [
    "hybrid_query(question, top_k=1, alpha=0.3)"
   ]
  },
  {
   "cell_type": "markdown",
   "id": "f90fecbc",
   "metadata": {
    "id": "eqZ93O95w2oe"
   },
   "source": [
    "The most relevant document is now ranked the highest."
   ]
  },
  {
   "cell_type": "markdown",
   "id": "4ba4e052",
   "metadata": {
    "id": "1YY3hiL3xNQ5"
   },
   "source": [
    "# Delete the Index"
   ]
  },
  {
   "cell_type": "code",
   "execution_count": null,
   "id": "71a0db26",
   "metadata": {
    "id": "DnGtG5iaUArB"
   },
   "outputs": [],
   "source": [
    "pinecone.delete_index(\"hybrid-search-demo\")"
   ]
  },
  {
   "cell_type": "code",
   "execution_count": null,
   "id": "8f297406",
   "metadata": {},
   "outputs": [],
   "source": []
  }
 ],
 "metadata": {
  "kernelspec": {
   "display_name": "pinecone",
   "language": "python",
   "name": "pinecone"
  },
  "language_info": {
   "codemirror_mode": {
    "name": "ipython",
    "version": 3
   },
   "file_extension": ".py",
   "mimetype": "text/x-python",
   "name": "python",
   "nbconvert_exporter": "python",
   "pygments_lexer": "ipython3",
   "version": "3.10.8"
  }
 },
 "nbformat": 4,
 "nbformat_minor": 5
}
